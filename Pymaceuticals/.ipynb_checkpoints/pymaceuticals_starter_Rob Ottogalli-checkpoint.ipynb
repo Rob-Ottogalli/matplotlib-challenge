{
 "cells": [
  {
   "cell_type": "markdown",
   "metadata": {},
   "source": [
    "## Observations and Insights"
   ]
  },
  {
   "cell_type": "markdown",
   "metadata": {},
   "source": []
  },
  {
   "cell_type": "markdown",
   "metadata": {},
   "source": [
    "## Dependencies and starter code"
   ]
  },
  {
   "cell_type": "code",
   "execution_count": 1,
   "metadata": {},
   "outputs": [
    {
     "data": {
      "text/html": [
       "<div>\n",
       "<style scoped>\n",
       "    .dataframe tbody tr th:only-of-type {\n",
       "        vertical-align: middle;\n",
       "    }\n",
       "\n",
       "    .dataframe tbody tr th {\n",
       "        vertical-align: top;\n",
       "    }\n",
       "\n",
       "    .dataframe thead th {\n",
       "        text-align: right;\n",
       "    }\n",
       "</style>\n",
       "<table border=\"1\" class=\"dataframe\">\n",
       "  <thead>\n",
       "    <tr style=\"text-align: right;\">\n",
       "      <th></th>\n",
       "      <th>Mouse ID</th>\n",
       "      <th>Drug Regimen</th>\n",
       "      <th>Sex</th>\n",
       "      <th>Age_months</th>\n",
       "      <th>Weight (g)</th>\n",
       "      <th>Timepoint</th>\n",
       "      <th>Tumor Volume (mm3)</th>\n",
       "      <th>Metastatic Sites</th>\n",
       "    </tr>\n",
       "  </thead>\n",
       "  <tbody>\n",
       "    <tr>\n",
       "      <th>0</th>\n",
       "      <td>k403</td>\n",
       "      <td>Ramicane</td>\n",
       "      <td>Male</td>\n",
       "      <td>21</td>\n",
       "      <td>16</td>\n",
       "      <td>0</td>\n",
       "      <td>45.000000</td>\n",
       "      <td>0</td>\n",
       "    </tr>\n",
       "    <tr>\n",
       "      <th>1</th>\n",
       "      <td>k403</td>\n",
       "      <td>Ramicane</td>\n",
       "      <td>Male</td>\n",
       "      <td>21</td>\n",
       "      <td>16</td>\n",
       "      <td>5</td>\n",
       "      <td>38.825898</td>\n",
       "      <td>0</td>\n",
       "    </tr>\n",
       "    <tr>\n",
       "      <th>2</th>\n",
       "      <td>k403</td>\n",
       "      <td>Ramicane</td>\n",
       "      <td>Male</td>\n",
       "      <td>21</td>\n",
       "      <td>16</td>\n",
       "      <td>10</td>\n",
       "      <td>35.014271</td>\n",
       "      <td>1</td>\n",
       "    </tr>\n",
       "    <tr>\n",
       "      <th>3</th>\n",
       "      <td>k403</td>\n",
       "      <td>Ramicane</td>\n",
       "      <td>Male</td>\n",
       "      <td>21</td>\n",
       "      <td>16</td>\n",
       "      <td>15</td>\n",
       "      <td>34.223992</td>\n",
       "      <td>1</td>\n",
       "    </tr>\n",
       "    <tr>\n",
       "      <th>4</th>\n",
       "      <td>k403</td>\n",
       "      <td>Ramicane</td>\n",
       "      <td>Male</td>\n",
       "      <td>21</td>\n",
       "      <td>16</td>\n",
       "      <td>20</td>\n",
       "      <td>32.997729</td>\n",
       "      <td>1</td>\n",
       "    </tr>\n",
       "  </tbody>\n",
       "</table>\n",
       "</div>"
      ],
      "text/plain": [
       "  Mouse ID Drug Regimen   Sex  Age_months  Weight (g)  Timepoint  \\\n",
       "0     k403     Ramicane  Male          21          16          0   \n",
       "1     k403     Ramicane  Male          21          16          5   \n",
       "2     k403     Ramicane  Male          21          16         10   \n",
       "3     k403     Ramicane  Male          21          16         15   \n",
       "4     k403     Ramicane  Male          21          16         20   \n",
       "\n",
       "   Tumor Volume (mm3)  Metastatic Sites  \n",
       "0           45.000000                 0  \n",
       "1           38.825898                 0  \n",
       "2           35.014271                 1  \n",
       "3           34.223992                 1  \n",
       "4           32.997729                 1  "
      ]
     },
     "execution_count": 1,
     "metadata": {},
     "output_type": "execute_result"
    }
   ],
   "source": [
    "# Dependencies and Setup\n",
    "import matplotlib.pyplot as plt\n",
    "import pandas as pd\n",
    "import scipy.stats as st\n",
    "from scipy.stats import sem\n",
    "import numpy as np\n",
    "\n",
    "# Study data files\n",
    "mouse_metadata = \"data/Mouse_metadata.csv\"\n",
    "study_results = \"data/Study_results.csv\"\n",
    "\n",
    "# Read the mouse data and the study results\n",
    "mouse_metadata = pd.read_csv(mouse_metadata)\n",
    "study_results = pd.read_csv(study_results)\n",
    "\n",
    "# Combine the data into a single dataset\n",
    "mouse_study_df = pd.merge(mouse_metadata, study_results, how=\"inner\", on=\"Mouse ID\")\n",
    "mouse_study_df.head()"
   ]
  },
  {
   "cell_type": "markdown",
   "metadata": {},
   "source": [
    "## Summary statistics"
   ]
  },
  {
   "cell_type": "code",
   "execution_count": 2,
   "metadata": {},
   "outputs": [],
   "source": [
    "# Generate a summary statistics table of mean, median, variance, standard deviation, and SEM of the tumor volume for each regimen\n",
    "\n",
    "# Group dataframe by Drug Regimen\n",
    "stats_table = mouse_study_df.groupby(\"Drug Regimen\")\n",
    "# Show Tumor Volume mean\n",
    "stats_table = stats_table[\"Tumor Volume (mm3)\"]\n",
    "\n",
    "# Create median of Tumor Volume\n",
    "volume_median = stats_table.median()\n",
    "\n",
    "# Create mean of Tumor Volume\n",
    "volume_mean = stats_table.mean()\n",
    "\n",
    "# Create variance of Tumor Volume\n",
    "volume_variance = stats_table.var()\n",
    "\n",
    "# Crate standard deviation of Tumor Volume\n",
    "volume_stdev = stats_table.std()"
   ]
  },
  {
   "cell_type": "code",
   "execution_count": 4,
   "metadata": {},
   "outputs": [],
   "source": [
    "# Create SEM of Tumor Volume\n",
    "\n",
    "# Rename Tumor Volume Column, to pass through functions more easily\n",
    "renamed = mouse_study_df.rename(columns={\"Tumor Volume (mm3)\":\"Tumor_Volume\"})\n",
    "\n",
    "# Create samples\n",
    "nsamples = 10\n",
    "size = 20\n",
    "samples = [renamed.sample(size) for x in range(0,nsamples)]\n",
    "\n",
    "# Calculate means of samples\n",
    "means = [s.Tumor_Volume.mean() for s in samples]\n",
    "\n",
    "# Calculate standard error of means\n",
    "volume_SEM = [sem(s.Tumor_Volume) for s in samples]"
   ]
  },
  {
   "cell_type": "code",
   "execution_count": 5,
   "metadata": {},
   "outputs": [
    {
     "data": {
      "text/html": [
       "<div>\n",
       "<style scoped>\n",
       "    .dataframe tbody tr th:only-of-type {\n",
       "        vertical-align: middle;\n",
       "    }\n",
       "\n",
       "    .dataframe tbody tr th {\n",
       "        vertical-align: top;\n",
       "    }\n",
       "\n",
       "    .dataframe thead th {\n",
       "        text-align: right;\n",
       "    }\n",
       "</style>\n",
       "<table border=\"1\" class=\"dataframe\">\n",
       "  <thead>\n",
       "    <tr style=\"text-align: right;\">\n",
       "      <th></th>\n",
       "      <th>Tumor Volume Mean</th>\n",
       "      <th>Tumor Volume Median</th>\n",
       "      <th>Tumor Volume Variance</th>\n",
       "      <th>Tumor Volume Standard Deviation</th>\n",
       "      <th>Tumor Volume SEM</th>\n",
       "    </tr>\n",
       "    <tr>\n",
       "      <th>Drug Regimen</th>\n",
       "      <th></th>\n",
       "      <th></th>\n",
       "      <th></th>\n",
       "      <th></th>\n",
       "      <th></th>\n",
       "    </tr>\n",
       "  </thead>\n",
       "  <tbody>\n",
       "    <tr>\n",
       "      <th>Capomulin</th>\n",
       "      <td>40.675741</td>\n",
       "      <td>41.557809</td>\n",
       "      <td>24.947764</td>\n",
       "      <td>4.994774</td>\n",
       "      <td>2.073862</td>\n",
       "    </tr>\n",
       "    <tr>\n",
       "      <th>Ceftamin</th>\n",
       "      <td>52.591172</td>\n",
       "      <td>51.776157</td>\n",
       "      <td>39.290177</td>\n",
       "      <td>6.268188</td>\n",
       "      <td>2.081185</td>\n",
       "    </tr>\n",
       "    <tr>\n",
       "      <th>Infubinol</th>\n",
       "      <td>52.884795</td>\n",
       "      <td>51.820584</td>\n",
       "      <td>43.128684</td>\n",
       "      <td>6.567243</td>\n",
       "      <td>1.681252</td>\n",
       "    </tr>\n",
       "    <tr>\n",
       "      <th>Ketapril</th>\n",
       "      <td>55.235638</td>\n",
       "      <td>53.698743</td>\n",
       "      <td>68.553577</td>\n",
       "      <td>8.279709</td>\n",
       "      <td>1.987230</td>\n",
       "    </tr>\n",
       "    <tr>\n",
       "      <th>Naftisol</th>\n",
       "      <td>54.331565</td>\n",
       "      <td>52.509285</td>\n",
       "      <td>66.173479</td>\n",
       "      <td>8.134708</td>\n",
       "      <td>1.572259</td>\n",
       "    </tr>\n",
       "    <tr>\n",
       "      <th>Placebo</th>\n",
       "      <td>54.033581</td>\n",
       "      <td>52.288934</td>\n",
       "      <td>61.168083</td>\n",
       "      <td>7.821003</td>\n",
       "      <td>1.841166</td>\n",
       "    </tr>\n",
       "    <tr>\n",
       "      <th>Propriva</th>\n",
       "      <td>52.322552</td>\n",
       "      <td>50.854632</td>\n",
       "      <td>42.351070</td>\n",
       "      <td>6.507770</td>\n",
       "      <td>2.130623</td>\n",
       "    </tr>\n",
       "    <tr>\n",
       "      <th>Ramicane</th>\n",
       "      <td>40.216745</td>\n",
       "      <td>40.673236</td>\n",
       "      <td>23.486704</td>\n",
       "      <td>4.846308</td>\n",
       "      <td>2.002150</td>\n",
       "    </tr>\n",
       "    <tr>\n",
       "      <th>Stelasyn</th>\n",
       "      <td>54.233149</td>\n",
       "      <td>52.431737</td>\n",
       "      <td>59.450562</td>\n",
       "      <td>7.710419</td>\n",
       "      <td>2.004071</td>\n",
       "    </tr>\n",
       "    <tr>\n",
       "      <th>Zoniferol</th>\n",
       "      <td>53.236507</td>\n",
       "      <td>51.818479</td>\n",
       "      <td>48.533355</td>\n",
       "      <td>6.966589</td>\n",
       "      <td>1.797605</td>\n",
       "    </tr>\n",
       "  </tbody>\n",
       "</table>\n",
       "</div>"
      ],
      "text/plain": [
       "              Tumor Volume Mean  Tumor Volume Median  Tumor Volume Variance  \\\n",
       "Drug Regimen                                                                  \n",
       "Capomulin             40.675741            41.557809              24.947764   \n",
       "Ceftamin              52.591172            51.776157              39.290177   \n",
       "Infubinol             52.884795            51.820584              43.128684   \n",
       "Ketapril              55.235638            53.698743              68.553577   \n",
       "Naftisol              54.331565            52.509285              66.173479   \n",
       "Placebo               54.033581            52.288934              61.168083   \n",
       "Propriva              52.322552            50.854632              42.351070   \n",
       "Ramicane              40.216745            40.673236              23.486704   \n",
       "Stelasyn              54.233149            52.431737              59.450562   \n",
       "Zoniferol             53.236507            51.818479              48.533355   \n",
       "\n",
       "              Tumor Volume Standard Deviation  Tumor Volume SEM  \n",
       "Drug Regimen                                                     \n",
       "Capomulin                            4.994774          2.073862  \n",
       "Ceftamin                             6.268188          2.081185  \n",
       "Infubinol                            6.567243          1.681252  \n",
       "Ketapril                             8.279709          1.987230  \n",
       "Naftisol                             8.134708          1.572259  \n",
       "Placebo                              7.821003          1.841166  \n",
       "Propriva                             6.507770          2.130623  \n",
       "Ramicane                             4.846308          2.002150  \n",
       "Stelasyn                             7.710419          2.004071  \n",
       "Zoniferol                            6.966589          1.797605  "
      ]
     },
     "execution_count": 5,
     "metadata": {},
     "output_type": "execute_result"
    }
   ],
   "source": [
    "# Create summary table as data frame\n",
    "Summary_Table = pd.DataFrame({\n",
    "    \"Tumor Volume Mean\": volume_mean,\n",
    "    \"Tumor Volume Median\": volume_median,\n",
    "    \"Tumor Volume Variance\": volume_variance,\n",
    "    \"Tumor Volume Standard Deviation\": volume_stdev,\n",
    "    \"Tumor Volume SEM\": volume_SEM\n",
    "})\n",
    "Summary_Table"
   ]
  },
  {
   "cell_type": "markdown",
   "metadata": {},
   "source": [
    "## Bar plots"
   ]
  },
  {
   "cell_type": "code",
   "execution_count": 6,
   "metadata": {},
   "outputs": [
    {
     "data": {
      "text/plain": [
       "Text(0, 0.5, 'Number of Test Subjects')"
      ]
     },
     "execution_count": 6,
     "metadata": {},
     "output_type": "execute_result"
    },
    {
     "data": {
      "image/png": "[encoded data removed]",
      "text/plain": [
       "<Figure size 1440x504 with 1 Axes>"
      ]
     },
     "metadata": {
      "needs_background": "light"
     },
     "output_type": "display_data"
    }
   ],
   "source": [
    "# Generate a bar plot showing number of data points for each treatment regimen using pandas\n",
    "\n",
    "# Use data frame grouped by drug regimen (stats_table). Call count function\n",
    "regimen_data = stats_table.count()\n",
    "\n",
    "# Generate plot\n",
    "regimen_data.plot(kind=\"bar\", figsize=(20,7))\n",
    "\n",
    "# Set a Title and labels\n",
    "plt.title(\"Drug Regimen Stats\")\n",
    "plt.xlabel(\"Drug Regimen Name\")\n",
    "plt.ylabel(\"Number of Test Subjects\")\n"
   ]
  },
  {
   "cell_type": "code",
   "execution_count": 8,
   "metadata": {},
   "outputs": [
    {
     "data": {
      "text/plain": [
       "<BarContainer object of 10 artists>"
      ]
     },
     "execution_count": 8,
     "metadata": {},
     "output_type": "execute_result"
    },
    {
     "data": {
      "image/png": "[encoded data removed]",
      "text/plain": [
       "<Figure size 432x288 with 1 Axes>"
      ]
     },
     "metadata": {
      "needs_background": "light"
     },
     "output_type": "display_data"
    }
   ],
   "source": [
    "# Generate a bar plot showing number of data points for each treatment regimen using pyplot\n",
    "\n",
    "# Set x axis values to drug regimen names\n",
    "regimen_names = regimen_data.index.tolist()\n",
    "\n",
    "\n",
    "# Set y axis values to values from regimen data\n",
    "num_subjects = regimen_data.tolist()\n",
    "\n",
    "x_axis = np.arange(len(num_subjects))\n",
    "\n",
    "plt.bar(x_axis, num_subjects, color=\"b\", align=\"center\")\n",
    "# print(num_subjects)\n",
    "# print(regimen_names)\n"
   ]
  },
  {
   "cell_type": "code",
   "execution_count": 9,
   "metadata": {},
   "outputs": [],
   "source": [
    "# Y Axis: Create a list of lists to hold data values from summary table\n",
    "\n",
    "# newList = []                                      # Create empty outer list to hold all lists of values for all drug regimens\n",
    "# for x in range(0,10):                             # Create a for loop, where x is equal to the number of rows (drug regimens)\n",
    "#     innerlist = []                                # Create an empty inner list, to hold values for a single row (drug regimen)\n",
    "#     for y in range(0,5):                          # Create an inner for loop, where y is equal to the number of columns (drug regimen data)\n",
    "#         y_value = Summary_Table.iloc[x,y]         # Set y_value equal to the x,y coordinates of summary table, to hold data from that row/column combination.\n",
    "#         innerlist.append(y_value)                 # Add y_value to inner list \n",
    "#     newList.append(innerlist)                     # Append inner list (values of single drug regimen) to outer list\n",
    "# print(newList)"
   ]
  },
  {
   "cell_type": "markdown",
   "metadata": {},
   "source": [
    "## Pie plots"
   ]
  },
  {
   "cell_type": "code",
   "execution_count": null,
   "metadata": {},
   "outputs": [],
   "source": [
    "# Generate a pie plot showing the distribution of female versus male mice using pandas\n",
    "\n",
    "\n"
   ]
  },
  {
   "cell_type": "code",
   "execution_count": 10,
   "metadata": {},
   "outputs": [
    {
     "data": {
      "text/plain": [
       "(-1.2101537272442933,\n",
       " 1.1077121695699783,\n",
       " -1.1046567928362272,\n",
       " 1.1022210380848285)"
      ]
     },
     "execution_count": 10,
     "metadata": {},
     "output_type": "execute_result"
    },
    {
     "data": {
      "image/png": "[encoded data removed]",
      "text/plain": [
       "<Figure size 432x288 with 1 Axes>"
      ]
     },
     "metadata": {},
     "output_type": "display_data"
    }
   ],
   "source": [
    "# Generate a pie plot showing the distribution of female versus male mice using pyplot\n",
    "\n",
    "# Isolate mouse sex column as scalar\n",
    "gender = mouse_study_df[\"Sex\"]\n",
    "\n",
    "# Find count of female mice\n",
    "female = gender.loc[gender==\"Female\"].count()\n",
    "\n",
    "# Find count of male mice\n",
    "male = gender.loc[gender==\"Male\"].count()\n",
    "\n",
    "# labels for each section of pie chart\n",
    "labels = [\"Female\", \"Male\"]\n",
    "\n",
    "# values of each section\n",
    "sizes = [female, male]\n",
    "\n",
    "# colors of each section of the pie chart\n",
    "colors = [\"beige\", \"lightcoral\"]\n",
    "\n",
    "# explode\n",
    "explode = (0.1, 0)\n",
    "\n",
    "# Create pie chart\n",
    "plt.pie(sizes, explode=explode, labels=labels, colors=colors, \n",
    "        autopct=\"%1.1f%%\", shadow=True, startangle=90)\n",
    "plt.axis(\"equal\")"
   ]
  },
  {
   "cell_type": "markdown",
   "metadata": {},
   "source": [
    "## Quartiles, outliers and boxplots"
   ]
  },
  {
   "cell_type": "code",
   "execution_count": 28,
   "metadata": {},
   "outputs": [
    {
     "data": {
      "text/html": [
       "<div>\n",
       "<style scoped>\n",
       "    .dataframe tbody tr th:only-of-type {\n",
       "        vertical-align: middle;\n",
       "    }\n",
       "\n",
       "    .dataframe tbody tr th {\n",
       "        vertical-align: top;\n",
       "    }\n",
       "\n",
       "    .dataframe thead th {\n",
       "        text-align: right;\n",
       "    }\n",
       "</style>\n",
       "<table border=\"1\" class=\"dataframe\">\n",
       "  <thead>\n",
       "    <tr style=\"text-align: right;\">\n",
       "      <th></th>\n",
       "      <th>Tumor Volume (mm3)</th>\n",
       "    </tr>\n",
       "    <tr>\n",
       "      <th>Mouse ID</th>\n",
       "      <th></th>\n",
       "    </tr>\n",
       "  </thead>\n",
       "  <tbody>\n",
       "    <tr>\n",
       "      <th>s185</th>\n",
       "      <td>45.000000</td>\n",
       "    </tr>\n",
       "    <tr>\n",
       "      <th>s185</th>\n",
       "      <td>43.878496</td>\n",
       "    </tr>\n",
       "    <tr>\n",
       "      <th>s185</th>\n",
       "      <td>37.614948</td>\n",
       "    </tr>\n",
       "    <tr>\n",
       "      <th>s185</th>\n",
       "      <td>38.177232</td>\n",
       "    </tr>\n",
       "    <tr>\n",
       "      <th>s185</th>\n",
       "      <td>36.866876</td>\n",
       "    </tr>\n",
       "    <tr>\n",
       "      <th>s185</th>\n",
       "      <td>33.949940</td>\n",
       "    </tr>\n",
       "    <tr>\n",
       "      <th>s185</th>\n",
       "      <td>32.959671</td>\n",
       "    </tr>\n",
       "    <tr>\n",
       "      <th>s185</th>\n",
       "      <td>28.328531</td>\n",
       "    </tr>\n",
       "    <tr>\n",
       "      <th>s185</th>\n",
       "      <td>25.472143</td>\n",
       "    </tr>\n",
       "    <tr>\n",
       "      <th>s185</th>\n",
       "      <td>23.343598</td>\n",
       "    </tr>\n",
       "  </tbody>\n",
       "</table>\n",
       "</div>"
      ],
      "text/plain": [
       "          Tumor Volume (mm3)\n",
       "Mouse ID                    \n",
       "s185               45.000000\n",
       "s185               43.878496\n",
       "s185               37.614948\n",
       "s185               38.177232\n",
       "s185               36.866876\n",
       "s185               33.949940\n",
       "s185               32.959671\n",
       "s185               28.328531\n",
       "s185               25.472143\n",
       "s185               23.343598"
      ]
     },
     "execution_count": 28,
     "metadata": {},
     "output_type": "execute_result"
    }
   ],
   "source": [
    "capomulin_df = mouse_study_df.loc[(mouse_study_df[\"Drug Regimen\"]==\"Capomulin\"), :]\n",
    "\n",
    "# Find unique mice for capomulin\n",
    "capomulin_mice = capomulin_df[\"Mouse ID\"].unique()\n",
    "capomulin_mice\n",
    "\n",
    "# len(capomulin_mice) = 25\n",
    "\n",
    "# Filter total volume for max time point\n",
    "# s185\n",
    "\n",
    "blop = capomulin_df.loc[(capomulin_df[\"Mouse ID\"]== \"s185\")|\n",
    "                        (capomulin_df[\"Timepoint\"] == 45),\n",
    "                        :]\n",
    "# capomulin_df\n",
    "blop\n",
    "\n",
    "# final_capomulin = capomulin_df.sort_values(\"Timepoint\", ascending = False)\n",
    "# droplist = final_capomulin[(final_capomulin[\"Timepoint\"] < 45)]\n",
    "# final_capomulin = final_capomulin.drop(droplist)\n",
    "\n",
    "# Create dictionary to hold each mouse's last time point as a key and the corresponding tumor volume as a value\n",
    "mouse_time_volume = {}\n",
    "\n",
    "capomulin_df = capomulin_df.set_index(\"Mouse ID\")\n",
    "capomulin_df\n",
    "# for mouse in capomulin_mice:\n",
    "#     time_volume = []\n",
    "#     if mouse in mouse_time_volume:\n",
    "#         continue\n",
    "#     else:\n",
    "#         time = capomulin_df.loc[mouse, [\"Timepoint\"]]\n",
    "#         volume = capomulin_df.loc[mouse, [\"Tumor Volume (mm3)\"]]\n",
    "#         time_volume.append(time)\n",
    "#         time_volume.append(volume)\n",
    "#         mouse_time_volume.update({mouse:time_volume})\n",
    "# print(mouse_time_volume)\n",
    "\n",
    "\n",
    "# for x in range(0,len(capomulin_df)):\n",
    "#     time_volume = []\n",
    "#     if capomulin_df.iloc[x, 0] == capomulin_df.iloc[x+1, 0]:\n",
    "#         continue\n",
    "#     else:\n",
    "#         time = capomulin_df.loc[mouse, [\"Timepoint\"]]\n",
    "#         volume = capomulin_df.loc[mouse, [\"Tumor Volume (mm3)\"]]\n",
    "#         time_volume.append(time)\n",
    "#         time_volume.append(volume)\n",
    "#         mouse_time_volume.update({mouse:time_volume})\n",
    "\n",
    "mouse = capomulin_mice[0]\n",
    "volume = capomulin_df.loc[mouse, [\"Tumor Volume (mm3)\"]]\n",
    "volume\n",
    "\n",
    "# while mouse == mouse:\n",
    "#     volume = capomulin_df.loc[mouse, [\"Tumor Volume (mm3)\"]]\n",
    "#     print(volume)\n",
    "\n",
    "# final_capomulin.head(25)\n",
    "# droplist.count()\n",
    "# final_capomulin.count()"
   ]
  },
  {
   "cell_type": "code",
   "execution_count": null,
   "metadata": {},
   "outputs": [],
   "source": [
    "# Calculate the final tumor volume of each mouse across four of the most promising treatment regimens. Calculate the IQR and quantitatively determine if there are any potential outliers. \n",
    "\n",
    "# Note Need to find unique mice, then find the tumor volume at the final timepoint\n",
    "# Create box plots showing each of these. \n",
    "\n",
    "# Filter out data for 4 drug regimens.  Create 1 variable to hold data for each drug \n",
    "capomulin_df = mouse_study_df.loc[(mouse_study_df[\"Drug Regimen\"]==\"Capomulin\"), :]\n",
    "ramicane_df = mouse_study_df.loc[(mouse_study_df[\"Drug Regimen\"]==\"Ramicane\"), :]\n",
    "infubinol_df = mouse_study_df.loc[(mouse_study_df[\"Drug Regimen\"]==\"Infubinol\"), :]\n",
    "ceftamin_df = mouse_study_df.loc[(mouse_study_df[\"Drug Regimen\"]==\"Ceftamin\"), :]\n",
    "\n",
    "# Filter variables to hold only rows for tumor volume\n",
    "capomulin = capomulin_df[\"Tumor Volume (mm3)\"]\n",
    "ramicane = ramicane_df[\"Tumor Volume (mm3)\"]\n",
    "infubinol = infubinol_df[\"Tumor Volume (mm3)\"]\n",
    "ceftamin = ceftamin_df[\"Tumor Volume (mm3)\"]\n",
    "\n",
    "\n",
    "\n",
    "# Create a function to calculate quartiles, IQR, and outliers for a given drug and print the drug name.\n",
    "def quartile_report(regimen, drug_name):\n",
    "    quartiles = regimen.quantile([.25,.5,.75])\n",
    "    lowerq = quartiles[0.25]\n",
    "    upperq = quartiles[0.75]\n",
    "    iqr = upperq-lowerq\n",
    "    print(f\"Summary report for {drug_name}:\")\n",
    "    print(f\"    The lower quartile of tumor volumes is: {lowerq}\")\n",
    "    print(f\"    The upper quartile of tumor volumes is: {upperq}\")\n",
    "    print(f\"    The interquartile range of tumor volumes is: {iqr}\")\n",
    "    print(f\"    The the median of tumor volumes is: {quartiles[0.5]} \")\n",
    "\n",
    "    lower_bound = lowerq - (1.5*iqr)\n",
    "    upper_bound = upperq + (1.5*iqr)\n",
    "    print(f\"    Values below {lower_bound} could be outliers.\")\n",
    "    print(f\"    Values above {upper_bound} could be outliers.\")\n",
    "\n",
    "# Print reports for each drug\n",
    "capomulin_report = quartile_report(capomulin, \"Capomulin\")\n",
    "ramicane_report = quartile_report(ramicane, \"Ramicane\")\n",
    "infubinol_report = quartile_report(infubinol, \"Infubinol\")\n",
    "ceftamin_report = quartile_report(ceftamin, \"Ceftamin\")"
   ]
  },
  {
   "cell_type": "code",
   "execution_count": null,
   "metadata": {},
   "outputs": [],
   "source": [
    "# Generate a box plot of the final tumor volume of each mouse across four regimens of interest\n",
    "data = [capomulin, ramicane, infubinol, ceftamin]\n",
    "fig1, ax1 = plt.subplots()\n",
    "ax1.boxplot(data)\n",
    "plt.show()"
   ]
  },
  {
   "cell_type": "code",
   "execution_count": null,
   "metadata": {},
   "outputs": [],
   "source": [
    "# The second example again looks at the LAX temperature data set and computes quantiles\n",
    "temperature_df = pd.read_csv('../Resources/lax_temperature.csv')\n",
    "temperatures = temperature_df['HourlyDryBulbTemperature']\n",
    "\n",
    "fig1, ax1 = plt.subplots()\n",
    "ax1.set_title('Temperatures at LAX')\n",
    "ax1.set_ylabel('Temperature (°F)')\n",
    "ax1.boxplot(temperatures)\n",
    "plt.show()"
   ]
  },
  {
   "cell_type": "markdown",
   "metadata": {},
   "source": [
    "## Line and scatter plots"
   ]
  },
  {
   "cell_type": "code",
   "execution_count": null,
   "metadata": {},
   "outputs": [],
   "source": [
    "# Generate a line plot of time point versus tumor volume for a mouse treated with Capomulin"
   ]
  },
  {
   "cell_type": "code",
   "execution_count": null,
   "metadata": {},
   "outputs": [],
   "source": [
    "# Generate a scatter plot of mouse weight versus average tumor volume for the Capomulin regimen"
   ]
  },
  {
   "cell_type": "code",
   "execution_count": null,
   "metadata": {},
   "outputs": [],
   "source": [
    "# Calculate the correlation coefficient and linear regression model for mouse weight and average tumor volume for the Capomulin regimen"
   ]
  },
  {
   "cell_type": "code",
   "execution_count": null,
   "metadata": {},
   "outputs": [],
   "source": []
  }
 ],
 "metadata": {
  "anaconda-cloud": {},
  "kernelspec": {
   "display_name": "Python 3",
   "language": "python",
   "name": "python3"
  },
  "language_info": {
   "codemirror_mode": {
    "name": "ipython",
    "version": 3
   },
   "file_extension": ".py",
   "mimetype": "text/x-python",
   "name": "python",
   "nbconvert_exporter": "python",
   "pygments_lexer": "ipython3",
   "version": "3.7.1"
  }
 },
 "nbformat": 4,
 "nbformat_minor": 2
}

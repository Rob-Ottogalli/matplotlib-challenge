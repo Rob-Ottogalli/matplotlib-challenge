{
 "cells": [
  {
   "cell_type": "markdown",
   "metadata": {},
   "source": [
    "## Observations and Insights"
   ]
  },
  {
   "cell_type": "markdown",
   "metadata": {},
   "source": []
  },
  {
   "cell_type": "markdown",
   "metadata": {},
   "source": [
    "## Dependencies and starter code"
   ]
  },
  {
   "cell_type": "code",
   "execution_count": 1,
   "metadata": {},
   "outputs": [
    {
     "data": {
      "text/html": [
       "<div>\n",
       "<style scoped>\n",
       "    .dataframe tbody tr th:only-of-type {\n",
       "        vertical-align: middle;\n",
       "    }\n",
       "\n",
       "    .dataframe tbody tr th {\n",
       "        vertical-align: top;\n",
       "    }\n",
       "\n",
       "    .dataframe thead th {\n",
       "        text-align: right;\n",
       "    }\n",
       "</style>\n",
       "<table border=\"1\" class=\"dataframe\">\n",
       "  <thead>\n",
       "    <tr style=\"text-align: right;\">\n",
       "      <th></th>\n",
       "      <th>Mouse ID</th>\n",
       "      <th>Drug Regimen</th>\n",
       "      <th>Sex</th>\n",
       "      <th>Age_months</th>\n",
       "      <th>Weight (g)</th>\n",
       "      <th>Timepoint</th>\n",
       "      <th>Tumor Volume (mm3)</th>\n",
       "      <th>Metastatic Sites</th>\n",
       "    </tr>\n",
       "  </thead>\n",
       "  <tbody>\n",
       "    <tr>\n",
       "      <th>0</th>\n",
       "      <td>k403</td>\n",
       "      <td>Ramicane</td>\n",
       "      <td>Male</td>\n",
       "      <td>21</td>\n",
       "      <td>16</td>\n",
       "      <td>0</td>\n",
       "      <td>45.000000</td>\n",
       "      <td>0</td>\n",
       "    </tr>\n",
       "    <tr>\n",
       "      <th>1</th>\n",
       "      <td>k403</td>\n",
       "      <td>Ramicane</td>\n",
       "      <td>Male</td>\n",
       "      <td>21</td>\n",
       "      <td>16</td>\n",
       "      <td>5</td>\n",
       "      <td>38.825898</td>\n",
       "      <td>0</td>\n",
       "    </tr>\n",
       "    <tr>\n",
       "      <th>2</th>\n",
       "      <td>k403</td>\n",
       "      <td>Ramicane</td>\n",
       "      <td>Male</td>\n",
       "      <td>21</td>\n",
       "      <td>16</td>\n",
       "      <td>10</td>\n",
       "      <td>35.014271</td>\n",
       "      <td>1</td>\n",
       "    </tr>\n",
       "    <tr>\n",
       "      <th>3</th>\n",
       "      <td>k403</td>\n",
       "      <td>Ramicane</td>\n",
       "      <td>Male</td>\n",
       "      <td>21</td>\n",
       "      <td>16</td>\n",
       "      <td>15</td>\n",
       "      <td>34.223992</td>\n",
       "      <td>1</td>\n",
       "    </tr>\n",
       "    <tr>\n",
       "      <th>4</th>\n",
       "      <td>k403</td>\n",
       "      <td>Ramicane</td>\n",
       "      <td>Male</td>\n",
       "      <td>21</td>\n",
       "      <td>16</td>\n",
       "      <td>20</td>\n",
       "      <td>32.997729</td>\n",
       "      <td>1</td>\n",
       "    </tr>\n",
       "  </tbody>\n",
       "</table>\n",
       "</div>"
      ],
      "text/plain": [
       "  Mouse ID Drug Regimen   Sex  Age_months  Weight (g)  Timepoint  \\\n",
       "0     k403     Ramicane  Male          21          16          0   \n",
       "1     k403     Ramicane  Male          21          16          5   \n",
       "2     k403     Ramicane  Male          21          16         10   \n",
       "3     k403     Ramicane  Male          21          16         15   \n",
       "4     k403     Ramicane  Male          21          16         20   \n",
       "\n",
       "   Tumor Volume (mm3)  Metastatic Sites  \n",
       "0           45.000000                 0  \n",
       "1           38.825898                 0  \n",
       "2           35.014271                 1  \n",
       "3           34.223992                 1  \n",
       "4           32.997729                 1  "
      ]
     },
     "execution_count": 1,
     "metadata": {},
     "output_type": "execute_result"
    }
   ],
   "source": [
    "# Dependencies and Setup\n",
    "import matplotlib.pyplot as plt\n",
    "import pandas as pd\n",
    "import scipy.stats as st\n",
    "from scipy.stats import sem\n",
    "from scipy.stats import linregress\n",
    "import numpy as np\n",
    "\n",
    "# Study data files\n",
    "mouse_metadata = \"data/Mouse_metadata.csv\"\n",
    "study_results = \"data/Study_results.csv\"\n",
    "\n",
    "# Read the mouse data and the study results\n",
    "mouse_metadata = pd.read_csv(mouse_metadata)\n",
    "study_results = pd.read_csv(study_results)\n",
    "\n",
    "# Combine the data into a single dataset\n",
    "mouse_study_df = pd.merge(mouse_metadata, study_results, how=\"inner\", on=\"Mouse ID\")\n",
    "mouse_study_df.head()"
   ]
  },
  {
   "cell_type": "markdown",
   "metadata": {},
   "source": [
    "## Summary statistics"
   ]
  },
  {
   "cell_type": "code",
   "execution_count": 2,
   "metadata": {},
   "outputs": [],
   "source": [
    "# Generate a summary statistics table of mean, median, variance, standard deviation, and SEM of the tumor volume for each regimen\n",
    "\n",
    "# Group dataframe by Drug Regimen\n",
    "stats_table = mouse_study_df.groupby(\"Drug Regimen\")\n",
    "# Show Tumor Volume mean\n",
    "stats_table = stats_table[\"Tumor Volume (mm3)\"]\n",
    "\n",
    "# Create median of Tumor Volume\n",
    "volume_median = stats_table.median()\n",
    "\n",
    "# Create mean of Tumor Volume\n",
    "volume_mean = stats_table.mean()\n",
    "\n",
    "# Create variance of Tumor Volume\n",
    "volume_variance = stats_table.var()\n",
    "\n",
    "# Crate standard deviation of Tumor Volume\n",
    "volume_stdev = stats_table.std()"
   ]
  },
  {
   "cell_type": "code",
   "execution_count": 3,
   "metadata": {},
   "outputs": [],
   "source": [
    "# Create SEM of Tumor Volume\n",
    "\n",
    "# Rename Tumor Volume Column, to pass through functions more easily\n",
    "renamed = mouse_study_df.rename(columns={\"Tumor Volume (mm3)\":\"Tumor_Volume\"})\n",
    "\n",
    "# Create samples\n",
    "nsamples = 10\n",
    "size = 20\n",
    "samples = [renamed.sample(size) for x in range(0,nsamples)]\n",
    "\n",
    "# Calculate means of samples\n",
    "means = [s.Tumor_Volume.mean() for s in samples]\n",
    "\n",
    "# Calculate standard error of means\n",
    "volume_SEM = [sem(s.Tumor_Volume) for s in samples]"
   ]
  },
  {
   "cell_type": "code",
   "execution_count": 4,
   "metadata": {},
   "outputs": [
    {
     "data": {
      "text/html": [
       "<div>\n",
       "<style scoped>\n",
       "    .dataframe tbody tr th:only-of-type {\n",
       "        vertical-align: middle;\n",
       "    }\n",
       "\n",
       "    .dataframe tbody tr th {\n",
       "        vertical-align: top;\n",
       "    }\n",
       "\n",
       "    .dataframe thead th {\n",
       "        text-align: right;\n",
       "    }\n",
       "</style>\n",
       "<table border=\"1\" class=\"dataframe\">\n",
       "  <thead>\n",
       "    <tr style=\"text-align: right;\">\n",
       "      <th></th>\n",
       "      <th>Tumor Volume Mean</th>\n",
       "      <th>Tumor Volume Median</th>\n",
       "      <th>Tumor Volume Variance</th>\n",
       "      <th>Tumor Volume Standard Deviation</th>\n",
       "      <th>Tumor Volume SEM</th>\n",
       "    </tr>\n",
       "    <tr>\n",
       "      <th>Drug Regimen</th>\n",
       "      <th></th>\n",
       "      <th></th>\n",
       "      <th></th>\n",
       "      <th></th>\n",
       "      <th></th>\n",
       "    </tr>\n",
       "  </thead>\n",
       "  <tbody>\n",
       "    <tr>\n",
       "      <th>Capomulin</th>\n",
       "      <td>40.675741</td>\n",
       "      <td>41.557809</td>\n",
       "      <td>24.947764</td>\n",
       "      <td>4.994774</td>\n",
       "      <td>1.744467</td>\n",
       "    </tr>\n",
       "    <tr>\n",
       "      <th>Ceftamin</th>\n",
       "      <td>52.591172</td>\n",
       "      <td>51.776157</td>\n",
       "      <td>39.290177</td>\n",
       "      <td>6.268188</td>\n",
       "      <td>1.916510</td>\n",
       "    </tr>\n",
       "    <tr>\n",
       "      <th>Infubinol</th>\n",
       "      <td>52.884795</td>\n",
       "      <td>51.820584</td>\n",
       "      <td>43.128684</td>\n",
       "      <td>6.567243</td>\n",
       "      <td>2.620151</td>\n",
       "    </tr>\n",
       "    <tr>\n",
       "      <th>Ketapril</th>\n",
       "      <td>55.235638</td>\n",
       "      <td>53.698743</td>\n",
       "      <td>68.553577</td>\n",
       "      <td>8.279709</td>\n",
       "      <td>1.997515</td>\n",
       "    </tr>\n",
       "    <tr>\n",
       "      <th>Naftisol</th>\n",
       "      <td>54.331565</td>\n",
       "      <td>52.509285</td>\n",
       "      <td>66.173479</td>\n",
       "      <td>8.134708</td>\n",
       "      <td>1.798597</td>\n",
       "    </tr>\n",
       "    <tr>\n",
       "      <th>Placebo</th>\n",
       "      <td>54.033581</td>\n",
       "      <td>52.288934</td>\n",
       "      <td>61.168083</td>\n",
       "      <td>7.821003</td>\n",
       "      <td>2.753745</td>\n",
       "    </tr>\n",
       "    <tr>\n",
       "      <th>Propriva</th>\n",
       "      <td>52.322552</td>\n",
       "      <td>50.854632</td>\n",
       "      <td>42.351070</td>\n",
       "      <td>6.507770</td>\n",
       "      <td>1.672330</td>\n",
       "    </tr>\n",
       "    <tr>\n",
       "      <th>Ramicane</th>\n",
       "      <td>40.216745</td>\n",
       "      <td>40.673236</td>\n",
       "      <td>23.486704</td>\n",
       "      <td>4.846308</td>\n",
       "      <td>2.024762</td>\n",
       "    </tr>\n",
       "    <tr>\n",
       "      <th>Stelasyn</th>\n",
       "      <td>54.233149</td>\n",
       "      <td>52.431737</td>\n",
       "      <td>59.450562</td>\n",
       "      <td>7.710419</td>\n",
       "      <td>2.154892</td>\n",
       "    </tr>\n",
       "    <tr>\n",
       "      <th>Zoniferol</th>\n",
       "      <td>53.236507</td>\n",
       "      <td>51.818479</td>\n",
       "      <td>48.533355</td>\n",
       "      <td>6.966589</td>\n",
       "      <td>2.324617</td>\n",
       "    </tr>\n",
       "  </tbody>\n",
       "</table>\n",
       "</div>"
      ],
      "text/plain": [
       "              Tumor Volume Mean  Tumor Volume Median  Tumor Volume Variance  \\\n",
       "Drug Regimen                                                                  \n",
       "Capomulin             40.675741            41.557809              24.947764   \n",
       "Ceftamin              52.591172            51.776157              39.290177   \n",
       "Infubinol             52.884795            51.820584              43.128684   \n",
       "Ketapril              55.235638            53.698743              68.553577   \n",
       "Naftisol              54.331565            52.509285              66.173479   \n",
       "Placebo               54.033581            52.288934              61.168083   \n",
       "Propriva              52.322552            50.854632              42.351070   \n",
       "Ramicane              40.216745            40.673236              23.486704   \n",
       "Stelasyn              54.233149            52.431737              59.450562   \n",
       "Zoniferol             53.236507            51.818479              48.533355   \n",
       "\n",
       "              Tumor Volume Standard Deviation  Tumor Volume SEM  \n",
       "Drug Regimen                                                     \n",
       "Capomulin                            4.994774          1.744467  \n",
       "Ceftamin                             6.268188          1.916510  \n",
       "Infubinol                            6.567243          2.620151  \n",
       "Ketapril                             8.279709          1.997515  \n",
       "Naftisol                             8.134708          1.798597  \n",
       "Placebo                              7.821003          2.753745  \n",
       "Propriva                             6.507770          1.672330  \n",
       "Ramicane                             4.846308          2.024762  \n",
       "Stelasyn                             7.710419          2.154892  \n",
       "Zoniferol                            6.966589          2.324617  "
      ]
     },
     "execution_count": 4,
     "metadata": {},
     "output_type": "execute_result"
    }
   ],
   "source": [
    "# Create summary table as data frame\n",
    "Summary_Table = pd.DataFrame({\n",
    "    \"Tumor Volume Mean\": volume_mean,\n",
    "    \"Tumor Volume Median\": volume_median,\n",
    "    \"Tumor Volume Variance\": volume_variance,\n",
    "    \"Tumor Volume Standard Deviation\": volume_stdev,\n",
    "    \"Tumor Volume SEM\": volume_SEM\n",
    "})\n",
    "Summary_Table"
   ]
  },
  {
   "cell_type": "markdown",
   "metadata": {},
   "source": [
    "## Bar plots"
   ]
  },
  {
   "cell_type": "code",
   "execution_count": 5,
   "metadata": {},
   "outputs": [
    {
     "data": {
      "text/plain": [
       "Text(0, 0.5, 'Number of Test Subjects per Regimen')"
      ]
     },
     "execution_count": 5,
     "metadata": {},
     "output_type": "execute_result"
    },
    {
     "data": {
      "image/png": "[encoded data removed]",
      "text/plain": [
       "<Figure size 432x288 with 1 Axes>"
      ]
     },
     "metadata": {
      "needs_background": "light"
     },
     "output_type": "display_data"
    }
   ],
   "source": [
    "# Generate a bar plot showing number of data points for each treatment regimen using pandas\n",
    "\n",
    "# Use data frame grouped by drug regimen (stats_table). Call count function\n",
    "regimen_data = stats_table.count()\n",
    "\n",
    "# Set colors\n",
    "colors = [\"royalblue\", \"darkorange\", \"green\", \"red\", \"purple\", \"brown\", \"violet\", \"grey\", \"yellowgreen\", \"mediumturquoise\"]\n",
    "\n",
    "# Generate plot\n",
    "regimen_data.plot(kind=\"bar\", width=0.8, color=colors)\n",
    "\n",
    "# Set tick locations and names\n",
    "plt.xticks(rotation=45)\n",
    "\n",
    "\n",
    "# Set a Title and labels\n",
    "plt.title(\"Drug Regimen Stats\")\n",
    "plt.xlabel(\"Drug Regimen\")\n",
    "plt.ylabel(\"Number of Test Subjects per Regimen\")"
   ]
  },
  {
   "cell_type": "code",
   "execution_count": 6,
   "metadata": {},
   "outputs": [
    {
     "data": {
      "image/png": "[encoded data removed]",
      "text/plain": [
       "<Figure size 432x288 with 1 Axes>"
      ]
     },
     "metadata": {
      "needs_background": "light"
     },
     "output_type": "display_data"
    }
   ],
   "source": [
    "# Generate a bar plot showing number of data points for each treatment regimen using pyplot\n",
    "\n",
    "# Set x axis values to drug regimen names\n",
    "regimen_names = regimen_data.index.tolist()\n",
    "\n",
    "# Set y axis values from regimen data\n",
    "num_subjects = regimen_data.tolist()\n",
    "\n",
    "# Set colors\n",
    "colors = [\"royalblue\", \"darkorange\", \"green\", \"red\", \"purple\", \"brown\", \"violet\", \"grey\", \"yellowgreen\", \"mediumturquoise\"]\n",
    "\n",
    "# Set x axis\n",
    "x_axis = np.arange(len(num_subjects))\n",
    "\n",
    "# Create plot\n",
    "plt.bar(x_axis, num_subjects, align=\"center\", color=colors, width=0.8)\n",
    "\n",
    "# Set tick locations and names\n",
    "tick_locations = [value for value in x_axis]\n",
    "plt.xticks(tick_locations, regimen_names, rotation=45)\n",
    "\n",
    "# Set a Title and labels\n",
    "plt.title(\"Drug Regimen Stats\")\n",
    "plt.xlabel(\"Drug Regimen\")\n",
    "plt.ylabel(\"Number of Test Subjects per Regimen\")\n",
    "\n",
    "# Set plot margins\n",
    "plt.margins(0.025)"
   ]
  },
  {
   "cell_type": "markdown",
   "metadata": {},
   "source": [
    "## Pie plots"
   ]
  },
  {
   "cell_type": "code",
   "execution_count": 7,
   "metadata": {},
   "outputs": [
    {
     "data": {
      "text/plain": [
       "array([<matplotlib.axes._subplots.AxesSubplot object at 0x000001997A3886D8>],\n",
       "      dtype=object)"
      ]
     },
     "execution_count": 7,
     "metadata": {},
     "output_type": "execute_result"
    },
    {
     "data": {
      "image/png": "[encoded data removed]",
      "text/plain": [
       "<Figure size 432x288 with 1 Axes>"
      ]
     },
     "metadata": {},
     "output_type": "display_data"
    }
   ],
   "source": [
    "# Generate a pie plot showing the distribution of female versus male mice using pandas\n",
    "\n",
    "# Isolate mouse sex column as scalar\n",
    "gender = mouse_study_df[\"Sex\"]\n",
    "\n",
    "# Find count of female mice\n",
    "female = gender.loc[gender==\"Female\"].count()\n",
    "\n",
    "# Find count of male mice\n",
    "male = gender.loc[gender==\"Male\"].count()\n",
    "\n",
    "# Create dictionary to hold Male/Female count of all data\n",
    "dictionary = {\"Female\": [female], \"Male\": male}\n",
    "\n",
    "# Convert dictionary to dataframe\n",
    "gender_df = pd.DataFrame.from_dict({\n",
    "    \"Female\": female,\n",
    "    \"Male\": male},\n",
    "     orient=\"index\")\n",
    "\n",
    "# Set variable to hold colors\n",
    "colors = [\"beige\", \"lightcoral\"]\n",
    "\n",
    "# Set varible to hold title\n",
    "title = \"Distribution of Female and Male Mice\"\n",
    "\n",
    "# explode\n",
    "explode = (0.1, 0)\n",
    "\n",
    "# Generate Pie Chart\n",
    "gender_df.plot(kind=\"pie\", subplots=True, legend=False, \n",
    "            autopct=\"%1.1f%%\", colors=colors, title=title, shadow=True, startangle=90,\n",
    "           explode = explode)"
   ]
  },
  {
   "cell_type": "code",
   "execution_count": 8,
   "metadata": {},
   "outputs": [
    {
     "data": {
      "text/plain": [
       "Text(0.5, 1.0, 'Distribution of Female and Male Mice')"
      ]
     },
     "execution_count": 8,
     "metadata": {},
     "output_type": "execute_result"
    },
    {
     "data": {
      "image/png": "[encoded data removed]",
      "text/plain": [
       "<Figure size 432x288 with 1 Axes>"
      ]
     },
     "metadata": {},
     "output_type": "display_data"
    }
   ],
   "source": [
    "# Generate a pie plot showing the distribution of female versus male mice using pyplot\n",
    "\n",
    "# Isolate mouse sex column as scalar\n",
    "gender = mouse_study_df[\"Sex\"]\n",
    "\n",
    "# Find count of female mice\n",
    "female = gender.loc[gender==\"Female\"].count()\n",
    "\n",
    "# Find count of male mice\n",
    "male = gender.loc[gender==\"Male\"].count()\n",
    "\n",
    "# labels for each section of pie chart\n",
    "labels = [\"Female\", \"Male\"]\n",
    "\n",
    "# values of each section\n",
    "sizes = [female, male]\n",
    "\n",
    "# colors of each section of the pie chart\n",
    "colors = [\"beige\", \"lightcoral\"]\n",
    "\n",
    "# explode\n",
    "explode = (0.1, 0)\n",
    "\n",
    "# Create pie chart\n",
    "plt.pie(sizes, explode=explode, labels=labels, colors=colors, \n",
    "        autopct=\"%1.1f%%\", shadow=True, startangle=90)\n",
    "plt.axis(\"equal\")\n",
    "\n",
    "# Apply title\n",
    "plt.title(\"Distribution of Female and Male Mice\")"
   ]
  },
  {
   "cell_type": "markdown",
   "metadata": {},
   "source": [
    "## Quartiles, outliers and boxplots"
   ]
  },
  {
   "cell_type": "code",
   "execution_count": 9,
   "metadata": {},
   "outputs": [],
   "source": [
    "# Calculate the final tumor volume of each mouse across four of the most promising treatment regimens. Calculate the IQR and quantitatively determine if there are any potential outliers. \n",
    "\n",
    "# DEFINE FUNCTIONS\n",
    "\n",
    "# Define function to filter out data for drug regimen.  \n",
    "# Returns re-indexed dataframe for that drug.\n",
    "def regimen_dataframe(drug_regimen):\n",
    "    regimen_df = mouse_study_df.loc[\n",
    "        (mouse_study_df[\"Drug Regimen\"]==drug_regimen), :]     # Create 1 variable to hold dataframe for that drug.\n",
    "    regimen_df = regimen_df.reset_index(drop=True)             # Reset index for that dataframe, so numbers are continuous.\n",
    "    return regimen_df                                          # Drop old index, so old index is NOT added as a new column\n",
    "\n",
    "# Define function to find unique mice for capomulin.  \n",
    "# Returns unique mice in an array.\n",
    "def mouse_list(regimen_df):\n",
    "    unique_mice = regimen_df[\"Mouse ID\"].unique()\n",
    "    return unique_mice"
   ]
  },
  {
   "cell_type": "code",
   "execution_count": 10,
   "metadata": {},
   "outputs": [],
   "source": [
    "# Define function to find each mouse's timepoint and tumor volume. \n",
    "# Returns dictionary holding mouse IDs, timepoints, and final tumor volumes\n",
    "def mouse_dict(dataframe, mouse_array):\n",
    "    \n",
    "    # Create dictionary to hold each mouse's last time point \n",
    "    # as a key and the corresponding tumor volume as a value\n",
    "    mouse_time_volume = {}\n",
    "    \n",
    "    # Create for loop to pull final timepoint and \n",
    "    # final tumor volume for each mouse in dataframe.\n",
    "    for x in range(0,len(dataframe)-1):                          # Loop through all data in mouse dataframe\n",
    "        time_volume = []                                         # Create empty list to hold timepoint, volume for a mouse\n",
    "        \n",
    "        if x == len(dataframe):                                  # If x is last row in dataframe, then:\n",
    "            mouse = dataframe.iloc[x, 0]                         # set variable to hold name of that mouse\n",
    "            time = dataframe.iloc[x, 5]                          # set variable to hold that mouse's time point\n",
    "            volume = dataframe.iloc[x, 6]                        # set variable to hold that mouse's time tumor volume\n",
    "            time_volume.append(time)                             # Append time point to list\n",
    "            time_volume.append(volume)                           # Append tumor volume to list\n",
    "            mouse_time_volume.update({mouse:time_volume})        # Create dictionary to hold mouse ID as key and \n",
    "                                                                 # that mouse's timepoint/tumor volume as a value\n",
    "                \n",
    "        elif dataframe.iloc[x, 0] == dataframe.iloc[x+1, 0]:     # If mouse ID in 2 consecutive rows is identical, then:\n",
    "            continue                                             # Do nothing,  skip to next row\n",
    "            \n",
    "        else:                                                    # If mouse ID in 2 consecutive rows is different, then:\n",
    "            mouse = dataframe.iloc[x, 0]                         # add that mouse's ID, timepoint, and tumor volume\n",
    "            time = dataframe.iloc[x, 5]                          # to the dictionary, using same method\n",
    "            volume = dataframe.iloc[x, 6]                        # as defined above for the last row.\n",
    "            time_volume.append(time)\n",
    "            time_volume.append(volume)\n",
    "            mouse_time_volume.update({mouse:time_volume})\n",
    "            \n",
    "    return mouse_time_volume                                     # Return dictionary"
   ]
  },
  {
   "cell_type": "code",
   "execution_count": 11,
   "metadata": {},
   "outputs": [],
   "source": [
    "# Define function to convert mouse/timepoint/tumor volume dictionary to dataframe\n",
    "def mouse_dataframe(mouse_dictionary):\n",
    "    # Convert dictionary to dataframe.\n",
    "    # Sets dictionary keys to be the rows\n",
    "    time_vol_df = pd.DataFrame.from_dict(mouse_dictionary, orient=\"index\")\n",
    "    \n",
    "    # Rename columns\n",
    "    time_vol_df = time_vol_df.rename(columns={\n",
    "        0:\"Timepoint\",\n",
    "        1: \"Tumor Volume (mm3)\"\n",
    "    })\n",
    "    return time_vol_df"
   ]
  },
  {
   "cell_type": "code",
   "execution_count": 12,
   "metadata": {},
   "outputs": [],
   "source": [
    "# Create a function to calculate quartiles, IQR, and outliers for a given drug and print the drug name.\n",
    "def quartile_report(regimen, drug_name):\n",
    "    quartiles = regimen[\"Tumor Volume (mm3)\"].quantile([.25,.5,.75])\n",
    "    median = round(quartiles[0.5], 2)\n",
    "    lowerq = round(quartiles[0.25], 2)\n",
    "    upperq = round(quartiles[0.75], 2)\n",
    "    iqr = round(upperq-lowerq, 2)\n",
    "    print(f\"Summary report for {drug_name}:\")\n",
    "    print(f\"    The lower quartile of tumor volumes is: {lowerq}\")\n",
    "    print(f\"    The upper quartile of tumor volumes is: {upperq}\")\n",
    "    print(f\"    The interquartile range of tumor volumes is: {iqr}\")\n",
    "    print(f\"    The median of tumor volumes is: {median} \")\n",
    "\n",
    "    lower_bound = round(lowerq - (1.5*iqr), 2)\n",
    "    upper_bound = round(upperq + (1.5*iqr), 2)\n",
    "    print(f\"    Values below {lower_bound} could be outliers.\")\n",
    "    print(f\"    Values above {upper_bound} could be outliers.\")"
   ]
  },
  {
   "cell_type": "code",
   "execution_count": 13,
   "metadata": {},
   "outputs": [],
   "source": [
    "# Filter data for mouse ID, timepoint, and tumor volumes into dictionaries and dataframes\n",
    "\n",
    "# Filter out data for 4 drug regimens.  Create 1 variable to hold data for each drug \n",
    "capomulin_df = regimen_dataframe(\"Capomulin\")\n",
    "ramicane_df = regimen_dataframe(\"Ramicane\")\n",
    "infubinol_df = regimen_dataframe(\"Infubinol\")\n",
    "ceftamin_df = regimen_dataframe(\"Ceftamin\")\n",
    "\n",
    "# Create list of Mouse IDs for each drug regimen \n",
    "capomulin_mice = mouse_list(capomulin_df)\n",
    "ramicane_mice = mouse_list(ramicane_df)\n",
    "infubinol_mice = mouse_list(infubinol_df)\n",
    "ceftamin_mice = mouse_list(ceftamin_df)\n",
    "\n",
    "# Create dictionary of each drug regimen's mouse ID, final timepoint, and tumor volume\n",
    "capomulin_dict = mouse_dict(capomulin_df, capomulin_mice)\n",
    "ramicane_dict = mouse_dict(ramicane_df, ramicane_mice)\n",
    "infubinol_dict = mouse_dict(infubinol_df, infubinol_mice)\n",
    "ceftamin_dict = mouse_dict(ceftamin_df, ceftamin_mice)\n",
    "\n",
    "# Create dataframe of each drug regimen's mouse ID, final timepoint, and tumor volume\n",
    "capomulin_mice_df = mouse_dataframe(capomulin_dict)\n",
    "ramicane_mice_df = mouse_dataframe(ramicane_dict)\n",
    "infubinol_mice_df = mouse_dataframe(infubinol_dict)\n",
    "ceftamin_mice_df = mouse_dataframe(ceftamin_dict)"
   ]
  },
  {
   "cell_type": "code",
   "execution_count": 14,
   "metadata": {
    "scrolled": true
   },
   "outputs": [
    {
     "name": "stdout",
     "output_type": "stream",
     "text": [
      "Summary report for Capomulin:\n",
      "    The lower quartile of tumor volumes is: 32.26\n",
      "    The upper quartile of tumor volumes is: 40.0\n",
      "    The interquartile range of tumor volumes is: 7.74\n",
      "    The median of tumor volumes is: 37.72 \n",
      "    Values below 20.65 could be outliers.\n",
      "    Values above 51.61 could be outliers.\n",
      "Summary report for Ramicane:\n",
      "    The lower quartile of tumor volumes is: 31.44\n",
      "    The upper quartile of tumor volumes is: 39.27\n",
      "    The interquartile range of tumor volumes is: 7.83\n",
      "    The median of tumor volumes is: 36.47 \n",
      "    Values below 19.7 could be outliers.\n",
      "    Values above 51.02 could be outliers.\n",
      "Summary report for Infubinol:\n",
      "    The lower quartile of tumor volumes is: 53.42\n",
      "    The upper quartile of tumor volumes is: 65.67\n",
      "    The interquartile range of tumor volumes is: 12.25\n",
      "    The median of tumor volumes is: 59.22 \n",
      "    Values below 35.04 could be outliers.\n",
      "    Values above 84.04 could be outliers.\n",
      "Summary report for Ceftamin:\n",
      "    The lower quartile of tumor volumes is: 48.49\n",
      "    The upper quartile of tumor volumes is: 64.22\n",
      "    The interquartile range of tumor volumes is: 15.73\n",
      "    The median of tumor volumes is: 59.8 \n",
      "    Values below 24.9 could be outliers.\n",
      "    Values above 87.82 could be outliers.\n"
     ]
    }
   ],
   "source": [
    "# Print tumor volume summary reports for each drug regimen\n",
    "capomulin_report = quartile_report(capomulin_mice_df, \"Capomulin\")\n",
    "ramicane_report = quartile_report(ramicane_mice_df, \"Ramicane\")\n",
    "infubinol_report = quartile_report(infubinol_mice_df, \"Infubinol\")\n",
    "ceftamin_report = quartile_report(ceftamin_mice_df, \"Ceftamin\")"
   ]
  },
  {
   "cell_type": "code",
   "execution_count": 20,
   "metadata": {},
   "outputs": [
    {
     "data": {
      "image/png": "[encoded data removed]",
      "text/plain": [
       "<Figure size 432x288 with 1 Axes>"
      ]
     },
     "metadata": {
      "needs_background": "light"
     },
     "output_type": "display_data"
    },
    {
     "name": "stdout",
     "output_type": "stream",
     "text": [
      "Note: Potential outliers are shown as red circles.\n"
     ]
    }
   ],
   "source": [
    "# Generate a box plot of the final tumor volume of each mouse across four regimens of interest\n",
    "\n",
    "# Create list to hold tumor volume of all 4 regimens\n",
    "data = [capomulin_mice_df[\"Tumor Volume (mm3)\"], ramicane_mice_df[\"Tumor Volume (mm3)\"], \n",
    "        infubinol_mice_df[\"Tumor Volume (mm3)\"], ceftamin_mice_df[\"Tumor Volume (mm3)\"]]\n",
    "\n",
    "# Set labels\n",
    "labels = [\"Capomulin\", \"Ramicane\", \"Infubinol\", \"Ceftamin\"]\n",
    "\n",
    "# Create markers for potential outliers\n",
    "red_circle = dict(markerfacecolor='r', marker='o')\n",
    "\n",
    "# Create subplot\n",
    "fig1, ax1 = plt.subplots()\n",
    "\n",
    "# Set titles and axis labels\n",
    "ax1.set_title('Tumor Volumes for 4 Drug Regimens')\n",
    "ax1.set_ylabel('Tumor Volume (mm3)')\n",
    "ax1.set_xlabel(\"Drug Regimens\")\n",
    "\n",
    "# Show potential outliers, shorten whiskers to make outliers obvious\n",
    "ax1.boxplot(data, whis=0.5, showfliers=True, flierprops=red_circle, labels=labels, autorange=False)\n",
    "\n",
    "# Show plot\n",
    "plt.show()\n",
    "\n",
    "# Print Caption\n",
    "print(f\"Note: Potential outliers are shown as red circles.\")"
   ]
  },
  {
   "cell_type": "markdown",
   "metadata": {},
   "source": [
    "## Line and scatter plots"
   ]
  },
  {
   "cell_type": "code",
   "execution_count": 16,
   "metadata": {},
   "outputs": [
    {
     "data": {
      "text/plain": [
       "<matplotlib.legend.Legend at 0x1997b4bb898>"
      ]
     },
     "execution_count": 16,
     "metadata": {},
     "output_type": "execute_result"
    },
    {
     "data": {
      "image/png": "[encoded data removed]",
      "text/plain": [
       "<Figure size 432x288 with 1 Axes>"
      ]
     },
     "metadata": {
      "needs_background": "light"
     },
     "output_type": "display_data"
    }
   ],
   "source": [
    "# Generate a line plot of time point versus tumor volume for a mouse treated with Capomulin\n",
    "\n",
    "# Create dataframe for 1 mouse treated with Capomulin (in this case \"s185\")\n",
    "s185_data = capomulin_df[capomulin_df[\"Mouse ID\"]==\"s185\"]\n",
    "\n",
    "# Set variables to hold timepoint data and tumor volume\n",
    "time = s185_data[\"Timepoint\"]\n",
    "volume = s185_data[\"Tumor Volume (mm3)\"]\n",
    "\n",
    "# Generate line plot\n",
    "plt.plot(time, volume, marker=\"x\", label=\"Tumor Volume\")\n",
    "plt.title(\"Tumor Volume for mouse s185 treated with Capomulin\")\n",
    "plt.xlabel(\"Timepoint\")\n",
    "plt.ylabel(\"Tumor Volume (mm3)\")\n",
    "\n",
    "# Set legend\n",
    "plt.legend()"
   ]
  },
  {
   "cell_type": "code",
   "execution_count": 17,
   "metadata": {
    "scrolled": true
   },
   "outputs": [
    {
     "data": {
      "image/png": "[encoded data removed]",
      "text/plain": [
       "<Figure size 432x288 with 1 Axes>"
      ]
     },
     "metadata": {
      "needs_background": "light"
     },
     "output_type": "display_data"
    }
   ],
   "source": [
    "# Generate a scatter plot of mouse weight versus average tumor volume for the Capomulin regimen\n",
    "\n",
    "# Set x and y values\n",
    "x_values = capomulin_df[\"Weight (g)\"]\n",
    "y_values = capomulin_df[\"Tumor Volume (mm3)\"]\n",
    "\n",
    "# Create scatterplot\n",
    "plt.scatter(x_values, y_values)\n",
    "\n",
    "# Set titles and labels\n",
    "plt.title(\"Mouse Weight vs. Tumor Volumes for Capomulin\")\n",
    "plt.xlabel('Mouse Weight (g)')\n",
    "plt.ylabel('Tumor Volume (mm3)')\n",
    "\n",
    "# Show plot\n",
    "plt.show()"
   ]
  },
  {
   "cell_type": "code",
   "execution_count": 18,
   "metadata": {},
   "outputs": [
    {
     "name": "stdout",
     "output_type": "stream",
     "text": [
      "The correlation between Mouse Weight and Tumor Volume is: 0.53.\n"
     ]
    },
    {
     "data": {
      "image/png": "[encoded data removed]",
      "text/plain": [
       "<Figure size 432x288 with 1 Axes>"
      ]
     },
     "metadata": {
      "needs_background": "light"
     },
     "output_type": "display_data"
    }
   ],
   "source": [
    "# Calculate the correlation coefficient and linear regression model for mouse weight and average tumor volume for the Capomulin regimen\n",
    "\n",
    "# Set x and y values of scatterplot\n",
    "x_values = capomulin_df[\"Weight (g)\"]\n",
    "y_values = capomulin_df[\"Tumor Volume (mm3)\"]\n",
    "\n",
    "# Apply linear regression formula. Set line of linear regression.\n",
    "(slope, intercept, rvalue, pvalue, stderr) = linregress(x_values, y_values)\n",
    "regress_values = x_values * slope + intercept\n",
    "\n",
    "# Create scatterplot\n",
    "plt.scatter(x_values, y_values)\n",
    "\n",
    "# Draw linear regression line.\n",
    "plt.plot(x_values,regress_values,\"r-\")\n",
    "\n",
    "# Find and print correlation coefficient.\n",
    "correlation = st.pearsonr(x_values, y_values)\n",
    "print(f\"The correlation between Mouse Weight and Tumor Volume is: {round(correlation[0], 2)}.\")\n",
    "\n",
    "# Set titles and labels\n",
    "plt.title(\"Mouse Weight vs. Tumor Volumes for Capomulin\")\n",
    "plt.xlabel('Mouse Weight (g)')\n",
    "plt.ylabel('Tumor Volume (mm3)')\n",
    "\n",
    "# Show plot\n",
    "plt.show()"
   ]
  },
  {
   "cell_type": "code",
   "execution_count": null,
   "metadata": {},
   "outputs": [],
   "source": []
  }
 ],
 "metadata": {
  "anaconda-cloud": {},
  "kernelspec": {
   "display_name": "Python 3",
   "language": "python",
   "name": "python3"
  },
  "language_info": {
   "codemirror_mode": {
    "name": "ipython",
    "version": 3
   },
   "file_extension": ".py",
   "mimetype": "text/x-python",
   "name": "python",
   "nbconvert_exporter": "python",
   "pygments_lexer": "ipython3",
   "version": "3.7.1"
  }
 },
 "nbformat": 4,
 "nbformat_minor": 2
}
